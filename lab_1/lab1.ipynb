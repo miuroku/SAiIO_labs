{
 "cells": [
  {
   "cell_type": "code",
   "execution_count": null,
   "metadata": {},
   "outputs": [],
   "source": [
    "import numpy as np\n",
    "import copy"
   ]
  },
  {
   "cell_type": "code",
   "execution_count": null,
   "metadata": {},
   "outputs": [],
   "source": [
    "def solve_dual_simplex(c: np.array, A: np.array, b: np.array, B: np.array):\n",
    "\n",
    "    n = len(c)\n",
    "    m = len(b)\n",
    "\n",
    "    assert A.shape == (m, n)\n",
    "\n",
    "    i = 0\n",
    "\n",
    "    # Main loop\n",
    "    while True:\n",
    "        i += 1        \n",
    "        A_B = A[:, B]\n",
    "        A_B_inv = np.linalg.inv(A_B)\n",
    "        c_B = c[B]\n",
    "        y = c_B @ A_B_inv\n",
    "        kappa = np.zeros(n)\n",
    "        kappa[B] = A_B_inv @ b\n",
    "        if (kappa >= 0).all():\n",
    "            return kappa\n",
    "        j_k = np.argmax(kappa < 0)\n",
    "        k = int(np.where(B == j_k)[0])\n",
    "        nB = [i for i in range(n) if i not in B]\n",
    "        miu = {}\n",
    "        for i in nB:\n",
    "            miu[i] = A_B_inv[k] @ A[:, i]\n",
    "\n",
    "        if all([i >= 0 for i in miu.values()]):\n",
    "            return 'Данная задача несовместна.'\n",
    "        sigma = {}\n",
    "        for i in miu.keys():\n",
    "            if miu[i] < 0: \n",
    "                sigma[i] = (c[i] - A[:, i] @ y) / miu[i]\n",
    "        \n",
    "        j_0, sigma_0 = list(sigma.items())[0]\n",
    "        for key, value in sigma.items():\n",
    "            if value < sigma[j_0]:\n",
    "                j_0 = key\n",
    "                sigma_0 = value\n",
    "                break\n",
    "\n",
    "        B[k] = j_0"
   ]
  },
  {
   "cell_type": "code",
   "execution_count": 3,
   "metadata": {},
   "outputs": [],
   "source": [
    "c_hat = np.array([1, 1])\n",
    "A_hat = np.array([\n",
    "    [5, 9],\n",
    "    [9, 5]\n",
    "])\n",
    "b_hat = np.array([63, 63])\n",
    "d_hat_minus = np.array([1, 1])\n",
    "d_hat_plus = np.array([6, 6])"
   ]
  },
  {
   "cell_type": "code",
   "execution_count": 4,
   "metadata": {},
   "outputs": [],
   "source": [
    "def solve(c_hat, A_hat, b_hat, d_hat_minus, d_hat_plus):\n",
    "    m, n = A_hat.shape\n",
    "\n",
    "    # Шаг 1\n",
    "    idxs = np.where(c_hat > 0)[0]\n",
    "\n",
    "    c_hat[idxs] *= -1\n",
    "    A_hat[:, idxs] *= -1\n",
    "    d_hat_minus[idxs] *= -1\n",
    "    d_hat_plus[idxs] *= -1\n",
    "\n",
    "    d_hat_minus[idxs], d_hat_plus[idxs] = d_hat_plus[idxs], d_hat_minus[idxs]\n",
    "\n",
    "    # Шаг 2\n",
    "    alpha = 0\n",
    "    c = np.hstack((c_hat, np.zeros(m + n)))\n",
    "\n",
    "    A = np.hstack((\n",
    "            np.vstack((\n",
    "                A_hat, \n",
    "                np.identity(n)\n",
    "            )),\n",
    "            np.identity(m + n)\n",
    "        ))\n",
    "\n",
    "    b = np.hstack((b_hat, d_hat_plus))\n",
    "    d_minus = np.hstack((d_hat_minus, np.zeros(m + n)))\n",
    "    S = [{\n",
    "        'alpha': alpha,\n",
    "        'c': c,\n",
    "        'A': A,\n",
    "        'b': b,\n",
    "        'd_minus': d_minus,\n",
    "        'delta': copy.deepcopy(d_minus)\n",
    "    }]\n",
    "    x_asterisk = None\n",
    "    r = None\n",
    "\n",
    "    # Main loop\n",
    "    while True:\n",
    "        if len(S) == 0:\n",
    "            if x_asterisk is None:\n",
    "                return \"Данная задача несовместна.\"\n",
    "            \n",
    "            return -x_asterisk[idxs]\n",
    "        else:\n",
    "            last_problem = S.pop()\n",
    "\n",
    "            alpha = last_problem['alpha']\n",
    "            c = last_problem['c']\n",
    "            A = last_problem['A']\n",
    "            b = last_problem['b']\n",
    "            d_minus = last_problem['d_minus']\n",
    "            delta = last_problem['delta']\n",
    "            alpha_stroke = alpha + c @ d_minus\n",
    "            b_stroke = b - A @ d_minus\n",
    "            B = [i for i in range(n, n * 2 + m)]\n",
    "            x_wave = solve_dual_simplex(c, A, b_stroke, B)\n",
    "            float_mask = x_wave != x_wave.astype(np.int32)\n",
    "            if any(float_mask):                \n",
    "                i = np.argmax(float_mask[:n])\n",
    "                x_wave_i = x_wave[i]\n",
    "                if x_asterisk is None or r < np.floor(c @ x_wave + alpha_stroke):\n",
    "                    b_two_strokes = copy.deepcopy(b_stroke)\n",
    "                    b_two_strokes[m + i] = np.floor(x_wave_i)\n",
    "                    S.append({\n",
    "                        'alpha': copy.deepcopy(alpha_stroke),\n",
    "                        'c': copy.deepcopy(c),\n",
    "                        'A': copy.deepcopy(A),\n",
    "                        'b': b_two_strokes,\n",
    "                        'd_minus': np.zeros(2 * n + m),\n",
    "                        'delta': copy.deepcopy(delta),\n",
    "                    })\n",
    "                    new_d_minus = np.zeros(2 * n + m)\n",
    "                    new_d_minus[i] = np.ceil(x_wave_i)\n",
    "                    S.append({\n",
    "                        'alpha': copy.deepcopy(alpha_stroke),\n",
    "                        'c': copy.deepcopy(c),\n",
    "                        'A': copy.deepcopy(A),\n",
    "                        'b': copy.deepcopy(b_stroke),\n",
    "                        'd_minus': new_d_minus,\n",
    "                        'delta': copy.deepcopy(delta) + new_d_minus,\n",
    "                    })\n",
    "            else:\n",
    "                x_tick = x_wave + delta\n",
    "                if x_asterisk is None or r < c @ x_tick + alpha_stroke:\n",
    "                    x_asterisk = x_tick\n",
    "                    r = c @ x_tick + alpha_stroke"
   ]
  },
  {
   "cell_type": "code",
   "execution_count": null,
   "metadata": {},
   "outputs": [
    {
     "data": {
      "text/plain": [
       "array([4., 4.])"
      ]
     },
     "execution_count": 5,
     "metadata": {},
     "output_type": "execute_result"
    }
   ],
   "source": [
    "solve(c_hat, A_hat, b_hat, d_hat_minus, d_hat_plus)"
   ]
  }
 ],
 "metadata": {
  "kernelspec": {
   "display_name": "Python 3.9.13 ('base')",
   "language": "python",
   "name": "python3"
  },
  "language_info": {
   "codemirror_mode": {
    "name": "ipython",
    "version": 3
   },
   "file_extension": ".py",
   "mimetype": "text/x-python",
   "name": "python",
   "nbconvert_exporter": "python",
   "pygments_lexer": "ipython3",
   "version": "3.9.13"
  },
  "orig_nbformat": 4,
  "vscode": {
   "interpreter": {
    "hash": "3067ead486e059ec00ffe7555bdb889e6e264a24dc711bf108106cc7baee8d5d"
   }
  }
 },
 "nbformat": 4,
 "nbformat_minor": 2
}
